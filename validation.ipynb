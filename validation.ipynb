{
 "cells": [
  {
   "cell_type": "code",
   "execution_count": 1,
   "id": "fb422c30",
   "metadata": {},
   "outputs": [
    {
     "name": "stdout",
     "output_type": "stream",
     "text": [
      "Python 3.8.10 (default, May 26 2023, 14:05:08) \n",
      "[GCC 9.4.0] on linux\n"
     ]
    }
   ],
   "source": [
    "# -*- coding: utf-8 -*-\n",
    "import sys; print('Python %s on %s' % (sys.version, sys.platform))\n",
    "import os\n",
    "import time\n",
    "import json\n",
    "import re\n",
    "import pandas as pd\n",
    "import numpy as np\n",
    "from glob import glob, iglob\n",
    "from tqdm import tqdm\n",
    "from datetime import datetime\n",
    "import matplotlib.pyplot as plt"
   ]
  },
  {
   "cell_type": "code",
   "execution_count": 2,
   "id": "4086d671",
   "metadata": {},
   "outputs": [],
   "source": [
    "import utils\n",
    "import gpt\n",
    "from sklearn.metrics.pairwise import cosine_similarity\n",
    "\n",
    "DATASET_FOLDER = './dataset/'\n",
    "OUTPUT_FOLDER = './output/'\n",
    "\n",
    "LIBRARY = 'gs'\n",
    "CATEGORY = 'jppy'"
   ]
  },
  {
   "cell_type": "markdown",
   "id": "323a474d",
   "metadata": {},
   "source": [
    "## meta"
   ]
  },
  {
   "cell_type": "code",
   "execution_count": 3,
   "id": "7f875650",
   "metadata": {},
   "outputs": [
    {
     "name": "stdout",
     "output_type": "stream",
     "text": [
      "(73, 9)\n"
     ]
    }
   ],
   "source": [
    "df_meta = pd.read_parquet(OUTPUT_FOLDER + f'meta-{LIBRARY}-{CATEGORY}.parquet')\n",
    "print(df_meta.shape)"
   ]
  },
  {
   "cell_type": "code",
   "execution_count": 4,
   "id": "6d2387ba",
   "metadata": {},
   "outputs": [
    {
     "data": {
      "text/html": [
       "<div>\n",
       "<style scoped>\n",
       "    .dataframe tbody tr th:only-of-type {\n",
       "        vertical-align: middle;\n",
       "    }\n",
       "\n",
       "    .dataframe tbody tr th {\n",
       "        vertical-align: top;\n",
       "    }\n",
       "\n",
       "    .dataframe thead th {\n",
       "        text-align: right;\n",
       "    }\n",
       "</style>\n",
       "<table border=\"1\" class=\"dataframe\">\n",
       "  <thead>\n",
       "    <tr style=\"text-align: right;\">\n",
       "      <th></th>\n",
       "      <th>library</th>\n",
       "      <th>category</th>\n",
       "      <th>file_name</th>\n",
       "      <th>file_path</th>\n",
       "      <th>external_link</th>\n",
       "      <th>chapter</th>\n",
       "      <th>text_length</th>\n",
       "      <th>token_count</th>\n",
       "      <th>content</th>\n",
       "    </tr>\n",
       "    <tr>\n",
       "      <th>idx</th>\n",
       "      <th></th>\n",
       "      <th></th>\n",
       "      <th></th>\n",
       "      <th></th>\n",
       "      <th></th>\n",
       "      <th></th>\n",
       "      <th></th>\n",
       "      <th></th>\n",
       "      <th></th>\n",
       "    </tr>\n",
       "  </thead>\n",
       "  <tbody>\n",
       "    <tr>\n",
       "      <th>87c5c645171300baa4b6df99bb5ef28fa04fa265b666349e2c1375b7962a44ef</th>\n",
       "      <td>gs</td>\n",
       "      <td>jppy</td>\n",
       "      <td>Payroll Basics</td>\n",
       "      <td>./dataset/gs/JPPY/jppyp1.md</td>\n",
       "      <td>https://help.sap.com/docs/SAP_S4HANA_ON-PREMIS...</td>\n",
       "      <td>1</td>\n",
       "      <td>1467</td>\n",
       "      <td>271</td>\n",
       "      <td># Payroll Basics\\nPurpose\\nThe Payroll is base...</td>\n",
       "    </tr>\n",
       "    <tr>\n",
       "      <th>ebd0e02c76753f2896df4795a0155a6e0afab2d339a73924dfa7ee03b3a759bf</th>\n",
       "      <td>gs</td>\n",
       "      <td>jppy</td>\n",
       "      <td>Payroll Driver</td>\n",
       "      <td>./dataset/gs/JPPY/jppyp1.md</td>\n",
       "      <td>https://help.sap.com/docs/SAP_S4HANA_ON-PREMIS...</td>\n",
       "      <td>2</td>\n",
       "      <td>993</td>\n",
       "      <td>210</td>\n",
       "      <td># Payroll Driver\\nDefinition\\nProgram you use ...</td>\n",
       "    </tr>\n",
       "  </tbody>\n",
       "</table>\n",
       "</div>"
      ],
      "text/plain": [
       "                                                   library category  \\\n",
       "idx                                                                   \n",
       "87c5c645171300baa4b6df99bb5ef28fa04fa265b666349...      gs     jppy   \n",
       "ebd0e02c76753f2896df4795a0155a6e0afab2d339a7392...      gs     jppy   \n",
       "\n",
       "                                                         file_name  \\\n",
       "idx                                                                  \n",
       "87c5c645171300baa4b6df99bb5ef28fa04fa265b666349...  Payroll Basics   \n",
       "ebd0e02c76753f2896df4795a0155a6e0afab2d339a7392...  Payroll Driver   \n",
       "\n",
       "                                                                      file_path  \\\n",
       "idx                                                                               \n",
       "87c5c645171300baa4b6df99bb5ef28fa04fa265b666349...  ./dataset/gs/JPPY/jppyp1.md   \n",
       "ebd0e02c76753f2896df4795a0155a6e0afab2d339a7392...  ./dataset/gs/JPPY/jppyp1.md   \n",
       "\n",
       "                                                                                        external_link  \\\n",
       "idx                                                                                                     \n",
       "87c5c645171300baa4b6df99bb5ef28fa04fa265b666349...  https://help.sap.com/docs/SAP_S4HANA_ON-PREMIS...   \n",
       "ebd0e02c76753f2896df4795a0155a6e0afab2d339a7392...  https://help.sap.com/docs/SAP_S4HANA_ON-PREMIS...   \n",
       "\n",
       "                                                    chapter  text_length  \\\n",
       "idx                                                                        \n",
       "87c5c645171300baa4b6df99bb5ef28fa04fa265b666349...        1         1467   \n",
       "ebd0e02c76753f2896df4795a0155a6e0afab2d339a7392...        2          993   \n",
       "\n",
       "                                                    token_count  \\\n",
       "idx                                                               \n",
       "87c5c645171300baa4b6df99bb5ef28fa04fa265b666349...          271   \n",
       "ebd0e02c76753f2896df4795a0155a6e0afab2d339a7392...          210   \n",
       "\n",
       "                                                                                              content  \n",
       "idx                                                                                                    \n",
       "87c5c645171300baa4b6df99bb5ef28fa04fa265b666349...  # Payroll Basics\\nPurpose\\nThe Payroll is base...  \n",
       "ebd0e02c76753f2896df4795a0155a6e0afab2d339a7392...  # Payroll Driver\\nDefinition\\nProgram you use ...  "
      ]
     },
     "execution_count": 4,
     "metadata": {},
     "output_type": "execute_result"
    }
   ],
   "source": [
    "df_meta.head(2)"
   ]
  },
  {
   "cell_type": "code",
   "execution_count": 5,
   "id": "9bc3d7d6",
   "metadata": {},
   "outputs": [
    {
     "data": {
      "text/html": [
       "<div>\n",
       "<style scoped>\n",
       "    .dataframe tbody tr th:only-of-type {\n",
       "        vertical-align: middle;\n",
       "    }\n",
       "\n",
       "    .dataframe tbody tr th {\n",
       "        vertical-align: top;\n",
       "    }\n",
       "\n",
       "    .dataframe thead th {\n",
       "        text-align: right;\n",
       "    }\n",
       "</style>\n",
       "<table border=\"1\" class=\"dataframe\">\n",
       "  <thead>\n",
       "    <tr style=\"text-align: right;\">\n",
       "      <th></th>\n",
       "      <th>content</th>\n",
       "    </tr>\n",
       "    <tr>\n",
       "      <th>idx</th>\n",
       "      <th></th>\n",
       "    </tr>\n",
       "  </thead>\n",
       "  <tbody>\n",
       "    <tr>\n",
       "      <th>87c5c645171300baa4b6df99bb5ef28fa04fa265b666349e2c1375b7962a44ef</th>\n",
       "      <td># Payroll Basics\\nPurpose\\nThe Payroll is base...</td>\n",
       "    </tr>\n",
       "    <tr>\n",
       "      <th>ebd0e02c76753f2896df4795a0155a6e0afab2d339a73924dfa7ee03b3a759bf</th>\n",
       "      <td># Payroll Driver\\nDefinition\\nProgram you use ...</td>\n",
       "    </tr>\n",
       "    <tr>\n",
       "      <th>94deab0475a95f52e10a142b892d67798df01e73fa1d354e4827fd3f5cbd37e2</th>\n",
       "      <td># Payroll Schema\\nDefinition\\nThe payroll sche...</td>\n",
       "    </tr>\n",
       "    <tr>\n",
       "      <th>30d900bbb4076d7df560b82c33b38112afe91b805ae192cec68c5a29cc1bd4c3</th>\n",
       "      <td># Payroll-Relevant Files\\nDefinition\\nPayroll ...</td>\n",
       "    </tr>\n",
       "    <tr>\n",
       "      <th>10df96aa580c23d5bf3f03a09e30f81b6efdbe375b7b8973f58caff91f31d545</th>\n",
       "      <td># Internal Tables for Payroll\\nDefinition\\nTab...</td>\n",
       "    </tr>\n",
       "    <tr>\n",
       "      <th>...</th>\n",
       "      <td>...</td>\n",
       "    </tr>\n",
       "    <tr>\n",
       "      <th>d054628a73749896c69db8f72eb6a4b455740518a996610099d3545e12826db2</th>\n",
       "      <td># Administrating Employee's Nursing Insurance ...</td>\n",
       "    </tr>\n",
       "    <tr>\n",
       "      <th>239f3d7a733eefe3b0da8ed926ce3f4799a747f1876d2ad5419e9156e8c1a8bd</th>\n",
       "      <td># Maintaining Nursing Insurance Status per Per...</td>\n",
       "    </tr>\n",
       "    <tr>\n",
       "      <th>6fbd881bca11bbfbd7420aad085dee4666c928d710ebd0a403ec957b6ffe5dcb</th>\n",
       "      <td># Maintaining Nursing Insurance Status by Peri...</td>\n",
       "    </tr>\n",
       "    <tr>\n",
       "      <th>f1548abef1c05379e51478e667f5a685bcf9a0358b63e5cb920f1b94bc29cdc3</th>\n",
       "      <td># Type 2 Insured for Nursing Insurance (2 Gou ...</td>\n",
       "    </tr>\n",
       "    <tr>\n",
       "      <th>768bb0bd401860dc35ff221da7a36a93b153a54038376d9a7a5e0d3492315380</th>\n",
       "      <td># Specified Insured for Nursing Insurance (Tok...</td>\n",
       "    </tr>\n",
       "  </tbody>\n",
       "</table>\n",
       "<p>73 rows × 1 columns</p>\n",
       "</div>"
      ],
      "text/plain": [
       "                                                                                              content\n",
       "idx                                                                                                  \n",
       "87c5c645171300baa4b6df99bb5ef28fa04fa265b666349...  # Payroll Basics\\nPurpose\\nThe Payroll is base...\n",
       "ebd0e02c76753f2896df4795a0155a6e0afab2d339a7392...  # Payroll Driver\\nDefinition\\nProgram you use ...\n",
       "94deab0475a95f52e10a142b892d67798df01e73fa1d354...  # Payroll Schema\\nDefinition\\nThe payroll sche...\n",
       "30d900bbb4076d7df560b82c33b38112afe91b805ae192c...  # Payroll-Relevant Files\\nDefinition\\nPayroll ...\n",
       "10df96aa580c23d5bf3f03a09e30f81b6efdbe375b7b897...  # Internal Tables for Payroll\\nDefinition\\nTab...\n",
       "...                                                                                               ...\n",
       "d054628a73749896c69db8f72eb6a4b455740518a996610...  # Administrating Employee's Nursing Insurance ...\n",
       "239f3d7a733eefe3b0da8ed926ce3f4799a747f1876d2ad...  # Maintaining Nursing Insurance Status per Per...\n",
       "6fbd881bca11bbfbd7420aad085dee4666c928d710ebd0a...  # Maintaining Nursing Insurance Status by Peri...\n",
       "f1548abef1c05379e51478e667f5a685bcf9a0358b63e5c...  # Type 2 Insured for Nursing Insurance (2 Gou ...\n",
       "768bb0bd401860dc35ff221da7a36a93b153a54038376d9...  # Specified Insured for Nursing Insurance (Tok...\n",
       "\n",
       "[73 rows x 1 columns]"
      ]
     },
     "execution_count": 5,
     "metadata": {},
     "output_type": "execute_result"
    }
   ],
   "source": [
    "df_meta[['content']]"
   ]
  },
  {
   "cell_type": "code",
   "execution_count": 6,
   "id": "0d22972a",
   "metadata": {},
   "outputs": [
    {
     "data": {
      "text/html": [
       "<div>\n",
       "<style scoped>\n",
       "    .dataframe tbody tr th:only-of-type {\n",
       "        vertical-align: middle;\n",
       "    }\n",
       "\n",
       "    .dataframe tbody tr th {\n",
       "        vertical-align: top;\n",
       "    }\n",
       "\n",
       "    .dataframe thead th {\n",
       "        text-align: right;\n",
       "    }\n",
       "</style>\n",
       "<table border=\"1\" class=\"dataframe\">\n",
       "  <thead>\n",
       "    <tr style=\"text-align: right;\">\n",
       "      <th></th>\n",
       "      <th>library</th>\n",
       "      <th>category</th>\n",
       "      <th>file_name</th>\n",
       "      <th>file_path</th>\n",
       "      <th>external_link</th>\n",
       "      <th>chapter</th>\n",
       "      <th>text_length</th>\n",
       "      <th>token_count</th>\n",
       "      <th>content</th>\n",
       "    </tr>\n",
       "    <tr>\n",
       "      <th>idx</th>\n",
       "      <th></th>\n",
       "      <th></th>\n",
       "      <th></th>\n",
       "      <th></th>\n",
       "      <th></th>\n",
       "      <th></th>\n",
       "      <th></th>\n",
       "      <th></th>\n",
       "      <th></th>\n",
       "    </tr>\n",
       "  </thead>\n",
       "  <tbody>\n",
       "    <tr>\n",
       "      <th>fe32709c55435dc70032d4c0c72d57231393161292ebefcb2be217824af2475c</th>\n",
       "      <td>gs</td>\n",
       "      <td>jppy</td>\n",
       "      <td>Infotypes for Payroll Japan</td>\n",
       "      <td>./dataset/gs/JPPY/jppyp1.md</td>\n",
       "      <td>https://help.sap.com/docs/SAP_S4HANA_ON-PREMIS...</td>\n",
       "      <td>22</td>\n",
       "      <td>30</td>\n",
       "      <td>8</td>\n",
       "      <td># Infotypes for Payroll Japan\\n</td>\n",
       "    </tr>\n",
       "  </tbody>\n",
       "</table>\n",
       "</div>"
      ],
      "text/plain": [
       "                                                   library category  \\\n",
       "idx                                                                   \n",
       "fe32709c55435dc70032d4c0c72d57231393161292ebefc...      gs     jppy   \n",
       "\n",
       "                                                                      file_name  \\\n",
       "idx                                                                               \n",
       "fe32709c55435dc70032d4c0c72d57231393161292ebefc...  Infotypes for Payroll Japan   \n",
       "\n",
       "                                                                      file_path  \\\n",
       "idx                                                                               \n",
       "fe32709c55435dc70032d4c0c72d57231393161292ebefc...  ./dataset/gs/JPPY/jppyp1.md   \n",
       "\n",
       "                                                                                        external_link  \\\n",
       "idx                                                                                                     \n",
       "fe32709c55435dc70032d4c0c72d57231393161292ebefc...  https://help.sap.com/docs/SAP_S4HANA_ON-PREMIS...   \n",
       "\n",
       "                                                    chapter  text_length  \\\n",
       "idx                                                                        \n",
       "fe32709c55435dc70032d4c0c72d57231393161292ebefc...       22           30   \n",
       "\n",
       "                                                    token_count  \\\n",
       "idx                                                               \n",
       "fe32709c55435dc70032d4c0c72d57231393161292ebefc...            8   \n",
       "\n",
       "                                                                            content  \n",
       "idx                                                                                  \n",
       "fe32709c55435dc70032d4c0c72d57231393161292ebefc...  # Infotypes for Payroll Japan\\n  "
      ]
     },
     "execution_count": 6,
     "metadata": {},
     "output_type": "execute_result"
    }
   ],
   "source": [
    "df_meta[df_meta['token_count']<10]"
   ]
  },
  {
   "cell_type": "markdown",
   "id": "e0a86731",
   "metadata": {},
   "source": [
    "## embedding validation"
   ]
  },
  {
   "cell_type": "code",
   "execution_count": 7,
   "id": "d57e52c4",
   "metadata": {},
   "outputs": [
    {
     "name": "stdout",
     "output_type": "stream",
     "text": [
      "(73, 1536)\n"
     ]
    }
   ],
   "source": [
    "df_embedding = pd.read_parquet(OUTPUT_FOLDER + f'embedding-{LIBRARY}-{CATEGORY}.parquet')\n",
    "print(df_embedding.shape)"
   ]
  },
  {
   "cell_type": "code",
   "execution_count": 8,
   "id": "83f74b15",
   "metadata": {
    "scrolled": false
   },
   "outputs": [
    {
     "name": "stdout",
     "output_type": "stream",
     "text": [
      "f82fba9bb6eb3aefe367cd5377615b9258fb86085c1f0b5c1c8c6983e23f8619 1536 1473\n",
      "e4e989b2168c0d9e63610c0fad5777659f612b695234da8a32ddfbe75f7dc226 1536 2966\n",
      "30d900bbb4076d7df560b82c33b38112afe91b805ae192cec68c5a29cc1bd4c3 1536 933\n",
      "fe32709c55435dc70032d4c0c72d57231393161292ebefcb2be217824af2475c 1536 30\n",
      "c3c1d44e345ca4c0b795a74adadac7f668631afacab0d50c85eec06c39cf2e5a 1536 3267\n",
      "a3e24ecfd031f38e5713fe47570cb50e1d40753ac95c4336d3d2e4a2176fb03e 1536 1360\n",
      "2af820c0e3a77fd9e0816c8e9f013f3c2927e667cd5fb784051467e8e4cbce32 1536 982\n",
      "7918a37865bcf619456ec368fe915becf10ed409fcfd5ef74d395088f1b171ce 1536 1094\n",
      "17f947b4de763bdde0cb4df9e5604c3bb68460f8153072638050de74a9ef8c39 1536 1416\n",
      "b46685aced2bde13d36a3e1d739ce48c071c8046cd2131c2ee4cd667b2ebc96a 1536 1229\n"
     ]
    }
   ],
   "source": [
    "embedder = gpt.Embedding()\n",
    "for idx, item in df_embedding.sample(10).iterrows():    \n",
    "    plain_text = df_meta.loc[idx].content\n",
    "#     print(plain_text)\n",
    "    print(idx, len(list(item)), len(plain_text))\n",
    "    embedding = embedder.run(plain_text).result_\n",
    "    \n",
    "    similarity = cosine_similarity(np.array(item).reshape(1, -1), np.array(embedding).reshape(1, -1))\n",
    "    assert similarity[0][0] - 1 < 0.00001\n",
    "    time.sleep(1)"
   ]
  },
  {
   "cell_type": "code",
   "execution_count": null,
   "id": "b105c524",
   "metadata": {},
   "outputs": [],
   "source": []
  }
 ],
 "metadata": {
  "kernelspec": {
   "display_name": "Python 3 (ipykernel)",
   "language": "python",
   "name": "python3"
  },
  "language_info": {
   "codemirror_mode": {
    "name": "ipython",
    "version": 3
   },
   "file_extension": ".py",
   "mimetype": "text/x-python",
   "name": "python",
   "nbconvert_exporter": "python",
   "pygments_lexer": "ipython3",
   "version": "3.8.10"
  }
 },
 "nbformat": 4,
 "nbformat_minor": 5
}
